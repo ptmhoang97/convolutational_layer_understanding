{
  "nbformat": 4,
  "nbformat_minor": 0,
  "metadata": {
    "colab": {
      "name": "Untitled5.ipynb",
      "provenance": [],
      "authorship_tag": "ABX9TyM8x9qmufftaaHMdJebJ5/J",
      "include_colab_link": true
    },
    "kernelspec": {
      "name": "python3",
      "display_name": "Python 3"
    },
    "language_info": {
      "name": "python"
    }
  },
  "cells": [
    {
      "cell_type": "markdown",
      "metadata": {
        "id": "view-in-github",
        "colab_type": "text"
      },
      "source": [
        "<a href=\"https://colab.research.google.com/github/ptmhoang97/keras/blob/main/understand_convolutional_layer_basic.ipynb\" target=\"_parent\"><img src=\"https://colab.research.google.com/assets/colab-badge.svg\" alt=\"Open In Colab\"/></a>"
      ]
    },
    {
      "cell_type": "code",
      "metadata": {
        "id": "6vnwLUwIXLJV"
      },
      "source": [
        "import tensorflow as tf\n",
        "\n",
        "from tensorflow.keras import datasets, layers, models\n",
        "from tensorflow.keras.models import Model\n",
        "from tensorflow.keras.utils import load_img, img_to_array\n",
        "import matplotlib.pyplot as plt\n",
        "from numpy import expand_dims\n",
        "import numpy as np"
      ],
      "execution_count": 2,
      "outputs": []
    },
    {
      "cell_type": "code",
      "metadata": {
        "colab": {
          "base_uri": "https://localhost:8080/",
          "height": 282
        },
        "id": "0csertPkXIge",
        "outputId": "e3b571d0-2ca0-4954-c3c9-bbaa913c4ad0"
      },
      "source": [
        "# Input image\n",
        "gray_img = np.full((5, 5), 200)\n",
        "plt.imshow(gray_img, cmap='gray', vmin=0, vmax=255)"
      ],
      "execution_count": 3,
      "outputs": [
        {
          "output_type": "execute_result",
          "data": {
            "text/plain": [
              "<matplotlib.image.AxesImage at 0x7f2fbad6d4d0>"
            ]
          },
          "metadata": {},
          "execution_count": 3
        },
        {
          "output_type": "display_data",
          "data": {
            "image/png": "[encoded data removed]",
            "text/plain": [
              "<Figure size 432x288 with 1 Axes>"
            ]
          },
          "metadata": {
            "needs_background": "light"
          }
        }
      ]
    },
    {
      "cell_type": "code",
      "metadata": {
        "colab": {
          "base_uri": "https://localhost:8080/"
        },
        "id": "8K7pIAzcfWhf",
        "outputId": "2a2fa52a-376b-4328-dcef-b0873ca2969c"
      },
      "source": [
        "# Create model with 1 convolutional layer\n",
        "model = models.Sequential()\n",
        "model.add(layers.Conv2D(1, (3, 3), padding = 'valid', activation='relu', input_shape=(5, 5, 1)))\n",
        "model.summary()"
      ],
      "execution_count": 4,
      "outputs": [
        {
          "output_type": "stream",
          "name": "stdout",
          "text": [
            "Model: \"sequential\"\n",
            "_________________________________________________________________\n",
            "Layer (type)                 Output Shape              Param #   \n",
            "=================================================================\n",
            "conv2d (Conv2D)              (None, 3, 3, 1)           10        \n",
            "=================================================================\n",
            "Total params: 10\n",
            "Trainable params: 10\n",
            "Non-trainable params: 0\n",
            "_________________________________________________________________\n"
          ]
        }
      ]
    },
    {
      "cell_type": "markdown",
      "metadata": {
        "id": "zRVInsXhi3Fw"
      },
      "source": [
        "###### Because **padding = 'valid'**, each dimension will be (5-3)+1 = 3."
      ]
    },
    {
      "cell_type": "markdown",
      "metadata": {
        "id": "xR8vyQcaXRQr"
      },
      "source": [
        "# Calculate convolutional layer manually"
      ]
    },
    {
      "cell_type": "code",
      "metadata": {
        "colab": {
          "base_uri": "https://localhost:8080/"
        },
        "id": "Xq5tVPExWrCl",
        "outputId": "b6105c30-b85e-43d2-e87d-5bd5edff93a3"
      },
      "source": [
        "# Check weight's value of kernel is generated randomly from system\n",
        "for layer in model.layers:\n",
        "    # check for convolutional layer\n",
        "    if 'conv' not in layer.name:\n",
        "        continue\n",
        "    # get filter weights\n",
        "    filters, biases = layer.get_weights()\n",
        "    print(layer.name, filters.shape)\n",
        "\n",
        "print(filters)\n",
        "print(biases)"
      ],
      "execution_count": 5,
      "outputs": [
        {
          "output_type": "stream",
          "name": "stdout",
          "text": [
            "conv2d (3, 3, 1, 1)\n",
            "[[[[ 0.14698213]]\n",
            "\n",
            "  [[ 0.3505779 ]]\n",
            "\n",
            "  [[ 0.37485194]]]\n",
            "\n",
            "\n",
            " [[[ 0.05852151]]\n",
            "\n",
            "  [[-0.2930322 ]]\n",
            "\n",
            "  [[-0.03830457]]]\n",
            "\n",
            "\n",
            " [[[ 0.11563909]]\n",
            "\n",
            "  [[-0.4692927 ]]\n",
            "\n",
            "  [[-0.12990582]]]]\n",
            "[0.]\n"
          ]
        }
      ]
    },
    {
      "cell_type": "code",
      "metadata": {
        "colab": {
          "base_uri": "https://localhost:8080/"
        },
        "id": "aORszydBYLkr",
        "outputId": "a14bbad1-34de-4a42-fa0d-a200dcfedcce"
      },
      "source": [
        "# Minimize the array for friendly view and better understanding\n",
        "weight = tf.squeeze(filters)\n",
        "print(weight)"
      ],
      "execution_count": 6,
      "outputs": [
        {
          "output_type": "stream",
          "name": "stdout",
          "text": [
            "tf.Tensor(\n",
            "[[ 0.14698213  0.3505779   0.37485194]\n",
            " [ 0.05852151 -0.2930322  -0.03830457]\n",
            " [ 0.11563909 -0.4692927  -0.12990582]], shape=(3, 3), dtype=float32)\n"
          ]
        }
      ]
    },
    {
      "cell_type": "code",
      "metadata": {
        "colab": {
          "base_uri": "https://localhost:8080/"
        },
        "id": "RVQEtq9zZjKN",
        "outputId": "d31d6117-5987-4e99-a64e-75c498f630c7"
      },
      "source": [
        "# Use gray_img[1:-1,1:-1] to get imgage without the border value, because the filter is sliced within the image.\n",
        "convolution_calculate = gray_img[1:-1,1:-1] * ( weight[0][0] + weight[0][1] + weight[0][2] + \n",
        "                                                weight[1][0] + weight[1][1] + weight[1][2] +\n",
        "                                                weight[2][0] + weight[2][1] + weight[2][2] )\n",
        "print(convolution_calculate)"
      ],
      "execution_count": 10,
      "outputs": [
        {
          "output_type": "stream",
          "name": "stdout",
          "text": [
            "tf.Tensor(\n",
            "[[23.207462 23.207462 23.207462]\n",
            " [23.207462 23.207462 23.207462]\n",
            " [23.207462 23.207462 23.207462]], shape=(3, 3), dtype=float32)\n"
          ]
        }
      ]
    },
    {
      "cell_type": "code",
      "metadata": {
        "colab": {
          "base_uri": "https://localhost:8080/",
          "height": 286
        },
        "id": "eftkp7Y5bbsG",
        "outputId": "f00c53a0-5549-4a9a-d42b-becf08aca42e"
      },
      "source": [
        "plt.imshow(convolution_calculate, cmap='gray', vmin=0, vmax=255)"
      ],
      "execution_count": 8,
      "outputs": [
        {
          "output_type": "execute_result",
          "data": {
            "text/plain": [
              "<matplotlib.image.AxesImage at 0x7f2fb75e8f50>"
            ]
          },
          "metadata": {},
          "execution_count": 8
        },
        {
          "output_type": "display_data",
          "data": {
            "image/png": "[encoded data removed]",
            "text/plain": [
              "<Figure size 432x288 with 1 Axes>"
            ]
          },
          "metadata": {
            "needs_background": "light"
          }
        }
      ]
    },
    {
      "cell_type": "markdown",
      "metadata": {
        "id": "Gh2sKO3JfZfl"
      },
      "source": [
        "# Use model.predict() to calculate convolutional layer"
      ]
    },
    {
      "cell_type": "code",
      "metadata": {
        "colab": {
          "base_uri": "https://localhost:8080/",
          "height": 337
        },
        "id": "NFT0xWXyYmVS",
        "outputId": "00299020-d01d-43d8-d972-58cd8a5010a4"
      },
      "source": [
        "# convert the image to an array\n",
        "img = img_to_array(gray_img)\n",
        "# expand dimensions so that it represents a single 'sample'\n",
        "img = expand_dims(img, axis=0)\n",
        "# Exucute convolutional layer\n",
        "feature_maps = model.predict(img)\n",
        "print(tf.squeeze(feature_maps))\n",
        "plt.imshow(tf.squeeze(feature_maps), cmap='gray' ,vmin=0, vmax=255)\n",
        "# show the figure\n",
        "plt.show()"
      ],
      "execution_count": 9,
      "outputs": [
        {
          "output_type": "stream",
          "name": "stdout",
          "text": [
            "tf.Tensor(\n",
            "[[23.20745 23.20745 23.20745]\n",
            " [23.20745 23.20745 23.20745]\n",
            " [23.20745 23.20745 23.20745]], shape=(3, 3), dtype=float32)\n"
          ]
        },
        {
          "output_type": "display_data",
          "data": {
            "image/png": "[encoded data removed]",
            "text/plain": [
              "<Figure size 432x288 with 1 Axes>"
            ]
          },
          "metadata": {
            "needs_background": "light"
          }
        }
      ]
    },
    {
      "cell_type": "code",
      "metadata": {
        "id": "0h0rgYapZBpb"
      },
      "source": [
        ""
      ],
      "execution_count": 9,
      "outputs": []
    }
  ]
}