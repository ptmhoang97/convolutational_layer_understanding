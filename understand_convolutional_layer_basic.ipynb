{
  "nbformat": 4,
  "nbformat_minor": 0,
  "metadata": {
    "colab": {
      "name": "Untitled5.ipynb",
      "provenance": [],
      "authorship_tag": "ABX9TyMw3oD3+xtFftGX2r57OCeu",
      "include_colab_link": true
    },
    "kernelspec": {
      "name": "python3",
      "display_name": "Python 3"
    },
    "language_info": {
      "name": "python"
    }
  },
  "cells": [
    {
      "cell_type": "markdown",
      "metadata": {
        "id": "view-in-github",
        "colab_type": "text"
      },
      "source": [
        "<a href=\"https://colab.research.google.com/github/ptmhoang97/keras/blob/main/understand_convolutional_layer_basic.ipynb\" target=\"_parent\"><img src=\"https://colab.research.google.com/assets/colab-badge.svg\" alt=\"Open In Colab\"/></a>"
      ]
    },
    {
      "cell_type": "code",
      "metadata": {
        "id": "6vnwLUwIXLJV"
      },
      "source": [
        "import tensorflow as tf\n",
        "\n",
        "from tensorflow.keras import datasets, layers, models\n",
        "from tensorflow.keras.models import Model\n",
        "from tensorflow.keras.utils import load_img, img_to_array\n",
        "import matplotlib.pyplot as plt\n",
        "from numpy import expand_dims\n",
        "import numpy as np"
      ],
      "execution_count": 1,
      "outputs": []
    },
    {
      "cell_type": "code",
      "metadata": {
        "colab": {
          "base_uri": "https://localhost:8080/",
          "height": 282
        },
        "id": "0csertPkXIge",
        "outputId": "6d2b86cc-8c07-4e29-c721-7fbaf3eedee2"
      },
      "source": [
        "# Input image\n",
        "gray_img = np.full((5, 5), 200)\n",
        "plt.imshow(gray_img, cmap='gray', vmin=0, vmax=255)"
      ],
      "execution_count": 58,
      "outputs": [
        {
          "output_type": "execute_result",
          "data": {
            "text/plain": [
              "<matplotlib.image.AxesImage at 0x7f3fdbf31550>"
            ]
          },
          "metadata": {},
          "execution_count": 58
        },
        {
          "output_type": "display_data",
          "data": {
            "image/png": "[encoded data removed]",
            "text/plain": [
              "<Figure size 432x288 with 1 Axes>"
            ]
          },
          "metadata": {
            "needs_background": "light"
          }
        }
      ]
    },
    {
      "cell_type": "code",
      "metadata": {
        "colab": {
          "base_uri": "https://localhost:8080/"
        },
        "id": "8K7pIAzcfWhf",
        "outputId": "d6bc1baf-0610-4391-9cb7-36875e101662"
      },
      "source": [
        "# Create model with 1 convolutional layer\n",
        "model = models.Sequential()\n",
        "model.add(layers.Conv2D(1, (3, 3), padding = 'valid', activation='relu', input_shape=(5, 5, 1)))\n",
        "model.summary()"
      ],
      "execution_count": 116,
      "outputs": [
        {
          "output_type": "stream",
          "name": "stdout",
          "text": [
            "Model: \"sequential_12\"\n",
            "_________________________________________________________________\n",
            "Layer (type)                 Output Shape              Param #   \n",
            "=================================================================\n",
            "conv2d_12 (Conv2D)           (None, 3, 3, 1)           10        \n",
            "=================================================================\n",
            "Total params: 10\n",
            "Trainable params: 10\n",
            "Non-trainable params: 0\n",
            "_________________________________________________________________\n"
          ]
        }
      ]
    },
    {
      "cell_type": "markdown",
      "metadata": {
        "id": "zRVInsXhi3Fw"
      },
      "source": [
        "###### Because **padding = 'valid'**, each dimension will be (5-3)+1 = 3."
      ]
    },
    {
      "cell_type": "markdown",
      "metadata": {
        "id": "xR8vyQcaXRQr"
      },
      "source": [
        "# Calculate convolutional layer manually"
      ]
    },
    {
      "cell_type": "code",
      "metadata": {
        "colab": {
          "base_uri": "https://localhost:8080/"
        },
        "id": "Xq5tVPExWrCl",
        "outputId": "c39502e4-68b2-4147-d81b-0888801a5611"
      },
      "source": [
        "# Check random weight of kernel\n",
        "for layer in model.layers:\n",
        "    # check for convolutional layer\n",
        "    if 'conv' not in layer.name:\n",
        "        continue\n",
        "    # get filter weights\n",
        "    filters, biases = layer.get_weights()\n",
        "    print(layer.name, filters.shape)\n",
        "\n",
        "print(filters)\n",
        "print(biases)"
      ],
      "execution_count": 117,
      "outputs": [
        {
          "output_type": "stream",
          "name": "stdout",
          "text": [
            "conv2d_12 (3, 3, 1, 1)\n",
            "[[[[ 0.5263597 ]]\n",
            "\n",
            "  [[-0.20879844]]\n",
            "\n",
            "  [[-0.06395227]]]\n",
            "\n",
            "\n",
            " [[[-0.52056354]]\n",
            "\n",
            "  [[ 0.5071887 ]]\n",
            "\n",
            "  [[-0.04042137]]]\n",
            "\n",
            "\n",
            " [[[ 0.36661893]]\n",
            "\n",
            "  [[ 0.12462151]]\n",
            "\n",
            "  [[-0.343391  ]]]]\n",
            "[0.]\n"
          ]
        }
      ]
    },
    {
      "cell_type": "code",
      "metadata": {
        "colab": {
          "base_uri": "https://localhost:8080/"
        },
        "id": "aORszydBYLkr",
        "outputId": "54b60601-5e9f-49d7-8440-49864e374d88"
      },
      "source": [
        "# Minimize the array for friendly view and better understanding\n",
        "weight = tf.squeeze(filters)\n",
        "print(weight)"
      ],
      "execution_count": 118,
      "outputs": [
        {
          "output_type": "stream",
          "name": "stdout",
          "text": [
            "tf.Tensor(\n",
            "[[ 0.5263597  -0.20879844 -0.06395227]\n",
            " [-0.52056354  0.5071887  -0.04042137]\n",
            " [ 0.36661893  0.12462151 -0.343391  ]], shape=(3, 3), dtype=float32)\n"
          ]
        }
      ]
    },
    {
      "cell_type": "code",
      "metadata": {
        "colab": {
          "base_uri": "https://localhost:8080/"
        },
        "id": "RVQEtq9zZjKN",
        "outputId": "d05821b9-0624-4b6e-fd03-af7e973b984e"
      },
      "source": [
        "# Use gray_img[1:-1,1:-1] to get imgage without the border value, shape of image will be (3,3).\n",
        "convolution_calculate = gray_img[1:-1,1:-1] * ( weight[0][0] + weight[0][1] + weight[0][2] + \n",
        "                                                weight[1][0] + weight[1][1] + weight[1][2] +\n",
        "                                                weight[2][0] + weight[2][1] + weight[2][2] )\n",
        "print(convolution_calculate)"
      ],
      "execution_count": 119,
      "outputs": [
        {
          "output_type": "stream",
          "name": "stdout",
          "text": [
            "tf.Tensor(\n",
            "[[69.53243 69.53243 69.53243]\n",
            " [69.53243 69.53243 69.53243]\n",
            " [69.53243 69.53243 69.53243]], shape=(3, 3), dtype=float32)\n"
          ]
        }
      ]
    },
    {
      "cell_type": "code",
      "metadata": {
        "colab": {
          "base_uri": "https://localhost:8080/",
          "height": 286
        },
        "id": "eftkp7Y5bbsG",
        "outputId": "539c9272-fa17-4e39-82f7-108a5e4170d4"
      },
      "source": [
        "plt.imshow(convolution_calculate, cmap='gray', vmin=0, vmax=255)"
      ],
      "execution_count": 120,
      "outputs": [
        {
          "output_type": "execute_result",
          "data": {
            "text/plain": [
              "<matplotlib.image.AxesImage at 0x7f3fdaf31310>"
            ]
          },
          "metadata": {},
          "execution_count": 120
        },
        {
          "output_type": "display_data",
          "data": {
            "image/png": "[encoded data removed]",
            "text/plain": [
              "<Figure size 432x288 with 1 Axes>"
            ]
          },
          "metadata": {
            "needs_background": "light"
          }
        }
      ]
    },
    {
      "cell_type": "markdown",
      "metadata": {
        "id": "Gh2sKO3JfZfl"
      },
      "source": [
        "# Use model.predict() to calculate convolutional layer"
      ]
    },
    {
      "cell_type": "code",
      "metadata": {
        "colab": {
          "base_uri": "https://localhost:8080/",
          "height": 337
        },
        "id": "NFT0xWXyYmVS",
        "outputId": "70bf5fe3-43ff-436f-bdbf-fe8defc367a4"
      },
      "source": [
        "# convert the image to an array\n",
        "img = img_to_array(gray_img)\n",
        "# expand dimensions so that it represents a single 'sample'\n",
        "img = expand_dims(img, axis=0)\n",
        "# Exucute convolutional layer\n",
        "feature_maps = model.predict(img)\n",
        "print(tf.squeeze(feature_maps))\n",
        "plt.imshow(tf.squeeze(feature_maps), cmap='gray' ,vmin=0, vmax=255)\n",
        "# show the figure\n",
        "plt.show()"
      ],
      "execution_count": 121,
      "outputs": [
        {
          "output_type": "stream",
          "name": "stdout",
          "text": [
            "tf.Tensor(\n",
            "[[69.53243 69.53243 69.53243]\n",
            " [69.53243 69.53243 69.53243]\n",
            " [69.53243 69.53243 69.53243]], shape=(3, 3), dtype=float32)\n"
          ]
        },
        {
          "output_type": "display_data",
          "data": {
            "image/png": "[encoded data removed]",
            "text/plain": [
              "<Figure size 432x288 with 1 Axes>"
            ]
          },
          "metadata": {
            "needs_background": "light"
          }
        }
      ]
    },
    {
      "cell_type": "code",
      "metadata": {
        "id": "0h0rgYapZBpb"
      },
      "source": [
        ""
      ],
      "execution_count": 121,
      "outputs": []
    }
  ]
}